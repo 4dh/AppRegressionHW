{
  "nbformat": 4,
  "nbformat_minor": 0,
  "metadata": {
    "colab": {
      "name": "Regression HW10b.ipynb",
      "provenance": [],
      "include_colab_link": true
    },
    "kernelspec": {
      "name": "python3",
      "display_name": "Python 3"
    }
  },
  "cells": [
    {
      "cell_type": "markdown",
      "metadata": {
        "id": "view-in-github",
        "colab_type": "text"
      },
      "source": [
        "<a href=\"https://colab.research.google.com/github/4dh/AppRegressionHW/blob/master/Regression_HW10b.ipynb\" target=\"_parent\"><img src=\"https://colab.research.google.com/assets/colab-badge.svg\" alt=\"Open In Colab\"/></a>"
      ]
    },
    {
      "cell_type": "code",
      "metadata": {
        "id": "UL3GJabZzLyL",
        "colab_type": "code",
        "colab": {}
      },
      "source": [
        "#initial statements for numpy and pandas packages\n",
        "import numpy as np\n",
        "import pandas as pd\n",
        "import csv\n",
        "import seaborn as sns\n",
        "import scipy as sp\n",
        "import statsmodels.api as sm\n",
        "from statsmodels.api import robust\n",
        "import matplotlib.pyplot as plt\n",
        "import matplotlib as mpl \n",
        "from mpl_toolkits.mplot3d import Axes3D "
      ],
      "execution_count": null,
      "outputs": []
    },
    {
      "cell_type": "code",
      "metadata": {
        "id": "9VmharidzVYE",
        "colab_type": "code",
        "colab": {
          "resources": {
            "http://localhost:8080/nbextensions/google.colab/files.js": {
              "data": "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",
              "ok": true,
              "headers": [
                [
                  "content-type",
                  "application/javascript"
                ]
              ],
              "status": 200,
              "status_text": ""
            }
          },
          "base_uri": "https://localhost:8080/",
          "height": 74
        },
        "outputId": "bde1bada-772c-4d79-de30-bcd4ccc9dbc1"
      },
      "source": [
        "from google.colab import files\n",
        "uploaded = files.upload()"
      ],
      "execution_count": null,
      "outputs": [
        {
          "output_type": "display_data",
          "data": {
            "text/html": [
              "\n",
              "     <input type=\"file\" id=\"files-b728219c-f37b-4d72-b74c-fa145c6e96a1\" name=\"files[]\" multiple disabled />\n",
              "     <output id=\"result-b728219c-f37b-4d72-b74c-fa145c6e96a1\">\n",
              "      Upload widget is only available when the cell has been executed in the\n",
              "      current browser session. Please rerun this cell to enable.\n",
              "      </output>\n",
              "      <script src=\"/nbextensions/google.colab/files.js\"></script> "
            ],
            "text/plain": [
              "<IPython.core.display.HTML object>"
            ]
          },
          "metadata": {
            "tags": []
          }
        },
        {
          "output_type": "stream",
          "text": [
            "Saving CH11PR12.txt to CH11PR12.txt\n"
          ],
          "name": "stdout"
        }
      ]
    },
    {
      "cell_type": "code",
      "metadata": {
        "id": "d-83ga8ezWNS",
        "colab_type": "code",
        "colab": {
          "base_uri": "https://localhost:8080/",
          "height": 206
        },
        "outputId": "e4ad145e-767c-4974-e7e8-0527a7cdcee9"
      },
      "source": [
        "htwt = pd.read_csv('CH11PR12.txt', delimiter='\\s+',\n",
        "            names = ['Y (Weight, lbs)', 'X (Height, in.)'])\n",
        "\n",
        "#Let's see what a sample of 5 rows looks like to verify that data frame is as expected\n",
        "htwt.sample(5)"
      ],
      "execution_count": null,
      "outputs": [
        {
          "output_type": "execute_result",
          "data": {
            "text/html": [
              "<div>\n",
              "<style scoped>\n",
              "    .dataframe tbody tr th:only-of-type {\n",
              "        vertical-align: middle;\n",
              "    }\n",
              "\n",
              "    .dataframe tbody tr th {\n",
              "        vertical-align: top;\n",
              "    }\n",
              "\n",
              "    .dataframe thead th {\n",
              "        text-align: right;\n",
              "    }\n",
              "</style>\n",
              "<table border=\"1\" class=\"dataframe\">\n",
              "  <thead>\n",
              "    <tr style=\"text-align: right;\">\n",
              "      <th></th>\n",
              "      <th>Y (Weight, lbs)</th>\n",
              "      <th>X (Height, in.)</th>\n",
              "    </tr>\n",
              "  </thead>\n",
              "  <tbody>\n",
              "    <tr>\n",
              "      <th>7</th>\n",
              "      <td>171</td>\n",
              "      <td>69</td>\n",
              "    </tr>\n",
              "    <tr>\n",
              "      <th>19</th>\n",
              "      <td>137</td>\n",
              "      <td>67</td>\n",
              "    </tr>\n",
              "    <tr>\n",
              "      <th>15</th>\n",
              "      <td>134</td>\n",
              "      <td>66</td>\n",
              "    </tr>\n",
              "    <tr>\n",
              "      <th>2</th>\n",
              "      <td>216</td>\n",
              "      <td>72</td>\n",
              "    </tr>\n",
              "    <tr>\n",
              "      <th>17</th>\n",
              "      <td>177</td>\n",
              "      <td>69</td>\n",
              "    </tr>\n",
              "  </tbody>\n",
              "</table>\n",
              "</div>"
            ],
            "text/plain": [
              "    Y (Weight, lbs)  X (Height, in.)\n",
              "7               171               69\n",
              "19              137               67\n",
              "15              134               66\n",
              "2               216               72\n",
              "17              177               69"
            ]
          },
          "metadata": {
            "tags": []
          },
          "execution_count": 6
        }
      ]
    },
    {
      "cell_type": "code",
      "metadata": {
        "id": "kIaQf74e4X8u",
        "colab_type": "code",
        "colab": {
          "base_uri": "https://localhost:8080/",
          "height": 540
        },
        "outputId": "8175867b-85d5-4355-e769-d29af39500a4"
      },
      "source": [
        "X = htwt['X (Height, in.)'] \n",
        "y = htwt['Y (Weight, lbs)']\n",
        "## fit a OLS \n",
        "X = sm.add_constant(X)\n",
        "htwtfit = sm.OLS(y, X).fit()\n",
        "htwtfit.summary()"
      ],
      "execution_count": null,
      "outputs": [
        {
          "output_type": "stream",
          "text": [
            "/usr/local/lib/python3.6/dist-packages/numpy/core/fromnumeric.py:2495: FutureWarning: Method .ptp is deprecated and will be removed in a future version. Use numpy.ptp instead.\n",
            "  return ptp(axis=axis, out=out, **kwargs)\n"
          ],
          "name": "stderr"
        },
        {
          "output_type": "execute_result",
          "data": {
            "text/html": [
              "<table class=\"simpletable\">\n",
              "<caption>OLS Regression Results</caption>\n",
              "<tr>\n",
              "  <th>Dep. Variable:</th>     <td>Y (Weight, lbs)</td> <th>  R-squared:         </th> <td>   0.386</td>\n",
              "</tr>\n",
              "<tr>\n",
              "  <th>Model:</th>                   <td>OLS</td>       <th>  Adj. R-squared:    </th> <td>   0.352</td>\n",
              "</tr>\n",
              "<tr>\n",
              "  <th>Method:</th>             <td>Least Squares</td>  <th>  F-statistic:       </th> <td>   11.31</td>\n",
              "</tr>\n",
              "<tr>\n",
              "  <th>Date:</th>             <td>Tue, 26 Nov 2019</td> <th>  Prob (F-statistic):</th>  <td>0.00346</td>\n",
              "</tr>\n",
              "<tr>\n",
              "  <th>Time:</th>                 <td>08:57:20</td>     <th>  Log-Likelihood:    </th> <td> -85.964</td>\n",
              "</tr>\n",
              "<tr>\n",
              "  <th>No. Observations:</th>      <td>    20</td>      <th>  AIC:               </th> <td>   175.9</td>\n",
              "</tr>\n",
              "<tr>\n",
              "  <th>Df Residuals:</th>          <td>    18</td>      <th>  BIC:               </th> <td>   177.9</td>\n",
              "</tr>\n",
              "<tr>\n",
              "  <th>Df Model:</th>              <td>     1</td>      <th>                     </th>     <td> </td>   \n",
              "</tr>\n",
              "<tr>\n",
              "  <th>Covariance Type:</th>      <td>nonrobust</td>    <th>                     </th>     <td> </td>   \n",
              "</tr>\n",
              "</table>\n",
              "<table class=\"simpletable\">\n",
              "<tr>\n",
              "         <td></td>            <th>coef</th>     <th>std err</th>      <th>t</th>      <th>P>|t|</th>  <th>[0.025</th>    <th>0.975]</th>  \n",
              "</tr>\n",
              "<tr>\n",
              "  <th>const</th>           <td> -193.9236</td> <td>  108.313</td> <td>   -1.790</td> <td> 0.090</td> <td> -421.480</td> <td>   33.633</td>\n",
              "</tr>\n",
              "<tr>\n",
              "  <th>X (Height, in.)</th> <td>    5.2484</td> <td>    1.561</td> <td>    3.363</td> <td> 0.003</td> <td>    1.970</td> <td>    8.527</td>\n",
              "</tr>\n",
              "</table>\n",
              "<table class=\"simpletable\">\n",
              "<tr>\n",
              "  <th>Omnibus:</th>       <td> 5.635</td> <th>  Durbin-Watson:     </th> <td>   1.479</td>\n",
              "</tr>\n",
              "<tr>\n",
              "  <th>Prob(Omnibus):</th> <td> 0.060</td> <th>  Jarque-Bera (JB):  </th> <td>   3.581</td>\n",
              "</tr>\n",
              "<tr>\n",
              "  <th>Skew:</th>          <td> 1.002</td> <th>  Prob(JB):          </th> <td>   0.167</td>\n",
              "</tr>\n",
              "<tr>\n",
              "  <th>Kurtosis:</th>      <td> 3.530</td> <th>  Cond. No.          </th> <td>1.79e+03</td>\n",
              "</tr>\n",
              "</table><br/><br/>Warnings:<br/>[1] Standard Errors assume that the covariance matrix of the errors is correctly specified.<br/>[2] The condition number is large, 1.79e+03. This might indicate that there are<br/>strong multicollinearity or other numerical problems."
            ],
            "text/plain": [
              "<class 'statsmodels.iolib.summary.Summary'>\n",
              "\"\"\"\n",
              "                            OLS Regression Results                            \n",
              "==============================================================================\n",
              "Dep. Variable:        Y (Weight, lbs)   R-squared:                       0.386\n",
              "Model:                            OLS   Adj. R-squared:                  0.352\n",
              "Method:                 Least Squares   F-statistic:                     11.31\n",
              "Date:                Tue, 26 Nov 2019   Prob (F-statistic):            0.00346\n",
              "Time:                        08:57:20   Log-Likelihood:                -85.964\n",
              "No. Observations:                  20   AIC:                             175.9\n",
              "Df Residuals:                      18   BIC:                             177.9\n",
              "Df Model:                           1                                         \n",
              "Covariance Type:            nonrobust                                         \n",
              "===================================================================================\n",
              "                      coef    std err          t      P>|t|      [0.025      0.975]\n",
              "-----------------------------------------------------------------------------------\n",
              "const            -193.9236    108.313     -1.790      0.090    -421.480      33.633\n",
              "X (Height, in.)     5.2484      1.561      3.363      0.003       1.970       8.527\n",
              "==============================================================================\n",
              "Omnibus:                        5.635   Durbin-Watson:                   1.479\n",
              "Prob(Omnibus):                  0.060   Jarque-Bera (JB):                3.581\n",
              "Skew:                           1.002   Prob(JB):                        0.167\n",
              "Kurtosis:                       3.530   Cond. No.                     1.79e+03\n",
              "==============================================================================\n",
              "\n",
              "Warnings:\n",
              "[1] Standard Errors assume that the covariance matrix of the errors is correctly specified.\n",
              "[2] The condition number is large, 1.79e+03. This might indicate that there are\n",
              "strong multicollinearity or other numerical problems.\n",
              "\"\"\""
            ]
          },
          "metadata": {
            "tags": []
          },
          "execution_count": 10
        }
      ]
    },
    {
      "cell_type": "code",
      "metadata": {
        "id": "xlBewNO77Q_4",
        "colab_type": "code",
        "colab": {
          "base_uri": "https://localhost:8080/",
          "height": 279
        },
        "outputId": "07ceea61-bf0e-4646-fb37-ce23fb1f5af4"
      },
      "source": [
        "X = htwt['X (Height, in.)'] \n",
        "y = htwt['Y (Weight, lbs)']\n",
        "ax = sns.regplot(x=X, y=y, color=\"g\")"
      ],
      "execution_count": null,
      "outputs": [
        {
          "output_type": "display_data",
          "data": {
            "image/png": "[encoded data removed]",
            "text/plain": [
              "<Figure size 432x288 with 1 Axes>"
            ]
          },
          "metadata": {
            "tags": []
          }
        }
      ]
    },
    {
      "cell_type": "code",
      "metadata": {
        "id": "Ptr1883m8jq0",
        "colab_type": "code",
        "colab": {
          "base_uri": "https://localhost:8080/",
          "height": 206
        },
        "outputId": "f30e90a1-efe7-4976-b8ad-1b8e2e20baa9"
      },
      "source": [
        "hw_fitted_y = htwtfit.fittedvalues\n",
        "htwt['Yfit'] = hw_fitted_y\n",
        "\n",
        "hw_residuals = htwtfit.resid\n",
        "htwt['Res'] = hw_residuals\n",
        "\n",
        "# cook's distance, from statsmodels internals\n",
        "hw_cooks = htwtfit.get_influence().cooks_distance[0]\n",
        "htwt['Cooks distance'] = hw_cooks\n",
        "\n",
        "#index column\n",
        "htwt['Index'] = list(range(len(htwt.index)))\n",
        "\n",
        "htwt.head(5)\n"
      ],
      "execution_count": null,
      "outputs": [
        {
          "output_type": "execute_result",
          "data": {
            "text/html": [
              "<div>\n",
              "<style scoped>\n",
              "    .dataframe tbody tr th:only-of-type {\n",
              "        vertical-align: middle;\n",
              "    }\n",
              "\n",
              "    .dataframe tbody tr th {\n",
              "        vertical-align: top;\n",
              "    }\n",
              "\n",
              "    .dataframe thead th {\n",
              "        text-align: right;\n",
              "    }\n",
              "</style>\n",
              "<table border=\"1\" class=\"dataframe\">\n",
              "  <thead>\n",
              "    <tr style=\"text-align: right;\">\n",
              "      <th></th>\n",
              "      <th>Y (Weight, lbs)</th>\n",
              "      <th>X (Height, in.)</th>\n",
              "      <th>Yfit</th>\n",
              "      <th>Res</th>\n",
              "      <th>Cooks distance</th>\n",
              "      <th>Index</th>\n",
              "    </tr>\n",
              "  </thead>\n",
              "  <tbody>\n",
              "    <tr>\n",
              "      <th>0</th>\n",
              "      <td>185</td>\n",
              "      <td>74</td>\n",
              "      <td>194.454860</td>\n",
              "      <td>-9.454860</td>\n",
              "      <td>0.039550</td>\n",
              "      <td>0</td>\n",
              "    </tr>\n",
              "    <tr>\n",
              "      <th>1</th>\n",
              "      <td>195</td>\n",
              "      <td>65</td>\n",
              "      <td>147.219647</td>\n",
              "      <td>47.780353</td>\n",
              "      <td>0.874227</td>\n",
              "      <td>1</td>\n",
              "    </tr>\n",
              "    <tr>\n",
              "      <th>2</th>\n",
              "      <td>216</td>\n",
              "      <td>72</td>\n",
              "      <td>183.958146</td>\n",
              "      <td>32.041854</td>\n",
              "      <td>0.176896</td>\n",
              "      <td>2</td>\n",
              "    </tr>\n",
              "    <tr>\n",
              "      <th>3</th>\n",
              "      <td>156</td>\n",
              "      <td>68</td>\n",
              "      <td>162.964718</td>\n",
              "      <td>-6.964718</td>\n",
              "      <td>0.004908</td>\n",
              "      <td>3</td>\n",
              "    </tr>\n",
              "    <tr>\n",
              "      <th>4</th>\n",
              "      <td>179</td>\n",
              "      <td>69</td>\n",
              "      <td>168.213075</td>\n",
              "      <td>10.786925</td>\n",
              "      <td>0.009327</td>\n",
              "      <td>4</td>\n",
              "    </tr>\n",
              "  </tbody>\n",
              "</table>\n",
              "</div>"
            ],
            "text/plain": [
              "   Y (Weight, lbs)  X (Height, in.)  ...  Cooks distance  Index\n",
              "0              185               74  ...        0.039550      0\n",
              "1              195               65  ...        0.874227      1\n",
              "2              216               72  ...        0.176896      2\n",
              "3              156               68  ...        0.004908      3\n",
              "4              179               69  ...        0.009327      4\n",
              "\n",
              "[5 rows x 6 columns]"
            ]
          },
          "metadata": {
            "tags": []
          },
          "execution_count": 14
        }
      ]
    },
    {
      "cell_type": "code",
      "metadata": {
        "id": "aGHO11dc-MJ0",
        "colab_type": "code",
        "colab": {
          "base_uri": "https://localhost:8080/",
          "height": 279
        },
        "outputId": "4192e0d1-cc3b-4a10-e892-2e16af939e1e"
      },
      "source": [
        "X = htwt['Index']\n",
        "y = htwt['Cooks distance']\n",
        "ax = sns.scatterplot(x=X, y=y)"
      ],
      "execution_count": null,
      "outputs": [
        {
          "output_type": "display_data",
          "data": {
            "image/png": "[encoded data removed]",
            "text/plain": [
              "<Figure size 432x288 with 1 Axes>"
            ]
          },
          "metadata": {
            "tags": []
          }
        }
      ]
    },
    {
      "cell_type": "code",
      "metadata": {
        "id": "BAdYCA8dKCDS",
        "colab_type": "code",
        "colab": {
          "base_uri": "https://localhost:8080/",
          "height": 381
        },
        "outputId": "7ff9a2a2-d04d-4419-f644-9718b7f8b821"
      },
      "source": [
        "\n",
        "mad = sm.robust.scale.mad(htwt['Y (Weight, lbs)'])\n",
        "htwt['ui'] = htwt['Res']/mad\n",
        "\n",
        "#htwt.head(20)\n",
        "htwt['ui'] \n",
        "\n",
        "\n",
        "#Huber\n",
        "htwt['Huber'] = np.where(htwt['ui']> 1.345, (1.345/abs(htwt['ui'])), 1)\n",
        "\n",
        "print(htwt.loc[:,['Y (Weight, lbs)', 'X (Height, in.)', 'ui', 'Huber']])\n"
      ],
      "execution_count": null,
      "outputs": [
        {
          "output_type": "stream",
          "text": [
            "    Y (Weight, lbs)  X (Height, in.)        ui    Huber\n",
            "0               185               74 -0.375130  1.00000\n",
            "1               195               65  1.895727  0.70949\n",
            "2               216               72  1.271288  1.00000\n",
            "3               156               68 -0.276331  1.00000\n",
            "4               179               69  0.427981  1.00000\n",
            "5               184               75 -0.623039  1.00000\n",
            "6               157               68 -0.236655  1.00000\n",
            "7               171               69  0.110574  1.00000\n",
            "8               176               70  0.100720  1.00000\n",
            "9               128               64 -0.554323  1.00000\n",
            "10              173               70 -0.018308  1.00000\n",
            "11              191               70  0.695858  1.00000\n",
            "12              190               71  0.447949  1.00000\n",
            "13              162               71 -0.662975  1.00000\n",
            "14              151               69 -0.682944  1.00000\n",
            "15              134               66 -0.732734  1.00000\n",
            "16              194               72  0.398419  1.00000\n",
            "17              177               69  0.348629  1.00000\n",
            "18              145               68 -0.712766  1.00000\n",
            "19              137               67 -0.821940  1.00000\n"
          ],
          "name": "stdout"
        }
      ]
    },
    {
      "cell_type": "code",
      "metadata": {
        "id": "5CwIGfYXUMhD",
        "colab_type": "code",
        "colab": {
          "base_uri": "https://localhost:8080/",
          "height": 71
        },
        "outputId": "702a07a1-2214-4ba3-f041-671cb9a6afe1"
      },
      "source": [
        "#IT 2\n",
        "X = htwt['X (Height, in.)'] \n",
        "y = htwt['Y (Weight, lbs)']\n",
        "## fit a OLS \n",
        "X = sm.add_constant(X)\n",
        "htwtfitH = sm.WLS(y, X, weights= htwt['Huber']).fit()\n",
        "htwtfitH.summary()\n",
        "resh1 = htwtfitH.resid\n",
        "htwt['ResH1'] = resh1"
      ],
      "execution_count": null,
      "outputs": [
        {
          "output_type": "stream",
          "text": [
            "/usr/local/lib/python3.6/dist-packages/numpy/core/fromnumeric.py:2495: FutureWarning: Method .ptp is deprecated and will be removed in a future version. Use numpy.ptp instead.\n",
            "  return ptp(axis=axis, out=out, **kwargs)\n"
          ],
          "name": "stderr"
        }
      ]
    },
    {
      "cell_type": "code",
      "metadata": {
        "id": "p4Pf-dFFXRK_",
        "colab_type": "code",
        "colab": {
          "base_uri": "https://localhost:8080/",
          "height": 381
        },
        "outputId": "39468a3f-fd71-4eef-a1d7-66848cf397ec"
      },
      "source": [
        "mad2 = sm.robust.scale.mad(htwt['Y (Weight, lbs)'])\n",
        "htwt['ui2'] = htwt['ResH1']/mad2\n",
        "\n",
        "#htwt.head(20)\n",
        "htwt['ui2'] \n",
        "\n",
        "#Huber\n",
        "htwt['Huber2'] = np.where(htwt['ui2']> 1.345, (1.345/abs(htwt['ui2'])), 1)\n",
        "\n",
        "print(htwt.loc[:,['Y (Weight, lbs)', 'X (Height, in.)', 'ui', 'Huber', 'ui2', 'Huber2']])"
      ],
      "execution_count": null,
      "outputs": [
        {
          "output_type": "stream",
          "text": [
            "    Y (Weight, lbs)  X (Height, in.)        ui    Huber       ui2    Huber2\n",
            "0               185               74 -0.375130  1.00000 -0.427406  1.000000\n",
            "1               195               65  1.895727  0.70949  2.000883  0.672203\n",
            "2               216               72  1.271288  1.00000  1.253997  1.000000\n",
            "3               156               68 -0.276331  1.00000 -0.223652  1.000000\n",
            "4               179               69  0.427981  1.00000  0.463167  1.000000\n",
            "5               184               75 -0.623039  1.00000 -0.692808  1.000000\n",
            "6               157               68 -0.236655  1.00000 -0.183977  1.000000\n",
            "7               171               69  0.110574  1.00000  0.145760  1.000000\n",
            "8               176               70  0.100720  1.00000  0.118414  1.000000\n",
            "9               128               64 -0.554323  1.00000 -0.431674  1.000000\n",
            "10              173               70 -0.018308  1.00000 -0.000614  1.000000\n",
            "11              191               70  0.695858  1.00000  0.713552  1.000000\n",
            "12              190               71  0.447949  1.00000  0.448150  1.000000\n",
            "13              162               71 -0.662975  1.00000 -0.662774  1.000000\n",
            "14              151               69 -0.682944  1.00000 -0.647757  1.000000\n",
            "15              134               66 -0.732734  1.00000 -0.645070  1.000000\n",
            "16              194               72  0.398419  1.00000  0.381128  1.000000\n",
            "17              177               69  0.348629  1.00000  0.383815  1.000000\n",
            "18              145               68 -0.712766  1.00000 -0.660087  1.000000\n",
            "19              137               67 -0.821940  1.00000 -0.751768  1.000000\n"
          ],
          "name": "stdout"
        }
      ]
    },
    {
      "cell_type": "code",
      "metadata": {
        "id": "gwB5xFngahYU",
        "colab_type": "code",
        "colab": {
          "base_uri": "https://localhost:8080/",
          "height": 71
        },
        "outputId": "9ebcc1be-8c39-4222-edf6-7b93b40cc021"
      },
      "source": [
        "#IT 3\n",
        "X = htwt['X (Height, in.)'] \n",
        "y = htwt['Y (Weight, lbs)']\n",
        "## fit a OLS \n",
        "X = sm.add_constant(X)\n",
        "htwtfitH2 = sm.WLS(y, X, weights= htwt['Huber2']).fit()\n",
        "htwtfitH2.summary()\n",
        "resh2j = htwtfitH2.resid\n",
        "htwt['ResH2'] = resh2j"
      ],
      "execution_count": null,
      "outputs": [
        {
          "output_type": "stream",
          "text": [
            "/usr/local/lib/python3.6/dist-packages/numpy/core/fromnumeric.py:2495: FutureWarning: Method .ptp is deprecated and will be removed in a future version. Use numpy.ptp instead.\n",
            "  return ptp(axis=axis, out=out, **kwargs)\n"
          ],
          "name": "stderr"
        }
      ]
    },
    {
      "cell_type": "code",
      "metadata": {
        "id": "t6UwBuyUa8dF",
        "colab_type": "code",
        "colab": {
          "base_uri": "https://localhost:8080/",
          "height": 415
        },
        "outputId": "d7ff68ce-bb69-49d1-8109-b237b8c76da7"
      },
      "source": [
        "mad2 = sm.robust.scale.mad(htwt['Y (Weight, lbs)'])\n",
        "htwt['ui3'] = htwt['ResH2']/mad2\n",
        "\n",
        "#htwt.head(20)\n",
        "htwt['ui3'] \n",
        "\n",
        "#Huber\n",
        "htwt['Huber3'] = np.where(htwt['ui3']> 1.345, (1.345/abs(htwt['ui3'])), 1)\n",
        "\n",
        "print(htwt.loc[:,['Y (Weight, lbs)', 'X (Height, in.)', 'ui', 'Huber', 'ui2', 'Huber2', 'ui3', 'Huber3']])"
      ],
      "execution_count": null,
      "outputs": [
        {
          "output_type": "stream",
          "text": [
            "    Y (Weight, lbs)  X (Height, in.)        ui  ...    Huber2       ui3    Huber3\n",
            "0               185               74 -0.375130  ...  1.000000 -0.434539  1.000000\n",
            "1               195               65  1.895727  ...  0.672203  2.015231  0.667417\n",
            "2               216               72  1.271288  ...  1.000000  1.251638  1.000000\n",
            "3               156               68 -0.276331  ...  1.000000 -0.216465  1.000000\n",
            "4               179               69  0.427981  ...  1.000000  0.467968  1.000000\n",
            "5               184               75 -0.623039  ...  1.000000 -0.702327  1.000000\n",
            "6               157               68 -0.236655  ...  1.000000 -0.176789  1.000000\n",
            "7               171               69  0.110574  ...  1.000000  0.150561  1.000000\n",
            "8               176               70  0.100720  ...  1.000000  0.120828  1.000000\n",
            "9               128               64 -0.554323  ...  1.000000 -0.414940  1.000000\n",
            "10              173               70 -0.018308  ...  1.000000  0.001800  1.000000\n",
            "11              191               70  0.695858  ...  1.000000  0.715966  1.000000\n",
            "12              190               71  0.447949  ...  1.000000  0.448177  1.000000\n",
            "13              162               71 -0.662975  ...  1.000000 -0.662747  1.000000\n",
            "14              151               69 -0.682944  ...  1.000000 -0.642957  1.000000\n",
            "15              134               66 -0.732734  ...  1.000000 -0.633109  1.000000\n",
            "16              194               72  0.398419  ...  1.000000  0.378768  1.000000\n",
            "17              177               69  0.348629  ...  1.000000  0.388616  1.000000\n",
            "18              145               68 -0.712766  ...  1.000000 -0.652899  1.000000\n",
            "19              137               67 -0.821940  ...  1.000000 -0.742194  1.000000\n",
            "\n",
            "[20 rows x 8 columns]\n"
          ],
          "name": "stdout"
        }
      ]
    },
    {
      "cell_type": "code",
      "metadata": {
        "id": "DidIx3n4cVWN",
        "colab_type": "code",
        "colab": {
          "base_uri": "https://localhost:8080/",
          "height": 540
        },
        "outputId": "f332a8be-9001-4288-ee2b-195fa51b8f07"
      },
      "source": [
        "#IT 3\n",
        "X = htwt['X (Height, in.)'] \n",
        "y = htwt['Y (Weight, lbs)']\n",
        "## fit a OLS \n",
        "X = sm.add_constant(X)\n",
        "htwtfitH3 = sm.WLS(y, X, weights= htwt['Huber3']).fit()\n",
        "htwtfitH3.summary()\n"
      ],
      "execution_count": null,
      "outputs": [
        {
          "output_type": "stream",
          "text": [
            "/usr/local/lib/python3.6/dist-packages/numpy/core/fromnumeric.py:2495: FutureWarning: Method .ptp is deprecated and will be removed in a future version. Use numpy.ptp instead.\n",
            "  return ptp(axis=axis, out=out, **kwargs)\n"
          ],
          "name": "stderr"
        },
        {
          "output_type": "execute_result",
          "data": {
            "text/html": [
              "<table class=\"simpletable\">\n",
              "<caption>WLS Regression Results</caption>\n",
              "<tr>\n",
              "  <th>Dep. Variable:</th>     <td>Y (Weight, lbs)</td> <th>  R-squared:         </th> <td>   0.453</td>\n",
              "</tr>\n",
              "<tr>\n",
              "  <th>Model:</th>                   <td>WLS</td>       <th>  Adj. R-squared:    </th> <td>   0.423</td>\n",
              "</tr>\n",
              "<tr>\n",
              "  <th>Method:</th>             <td>Least Squares</td>  <th>  F-statistic:       </th> <td>   14.91</td>\n",
              "</tr>\n",
              "<tr>\n",
              "  <th>Date:</th>             <td>Tue, 26 Nov 2019</td> <th>  Prob (F-statistic):</th>  <td>0.00115</td>\n",
              "</tr>\n",
              "<tr>\n",
              "  <th>Time:</th>                 <td>11:21:15</td>     <th>  Log-Likelihood:    </th> <td> -84.802</td>\n",
              "</tr>\n",
              "<tr>\n",
              "  <th>No. Observations:</th>      <td>    20</td>      <th>  AIC:               </th> <td>   173.6</td>\n",
              "</tr>\n",
              "<tr>\n",
              "  <th>Df Residuals:</th>          <td>    18</td>      <th>  BIC:               </th> <td>   175.6</td>\n",
              "</tr>\n",
              "<tr>\n",
              "  <th>Df Model:</th>              <td>     1</td>      <th>                     </th>     <td> </td>   \n",
              "</tr>\n",
              "<tr>\n",
              "  <th>Covariance Type:</th>      <td>nonrobust</td>    <th>                     </th>     <td> </td>   \n",
              "</tr>\n",
              "</table>\n",
              "<table class=\"simpletable\">\n",
              "<tr>\n",
              "         <td></td>            <th>coef</th>     <th>std err</th>      <th>t</th>      <th>P>|t|</th>  <th>[0.025</th>    <th>0.975]</th>  \n",
              "</tr>\n",
              "<tr>\n",
              "  <th>const</th>           <td> -230.0560</td> <td>  103.598</td> <td>   -2.221</td> <td> 0.039</td> <td> -447.707</td> <td>  -12.405</td>\n",
              "</tr>\n",
              "<tr>\n",
              "  <th>X (Height, in.)</th> <td>    5.7572</td> <td>    1.491</td> <td>    3.861</td> <td> 0.001</td> <td>    2.624</td> <td>    8.890</td>\n",
              "</tr>\n",
              "</table>\n",
              "<table class=\"simpletable\">\n",
              "<tr>\n",
              "  <th>Omnibus:</th>       <td> 3.351</td> <th>  Durbin-Watson:     </th> <td>   1.524</td>\n",
              "</tr>\n",
              "<tr>\n",
              "  <th>Prob(Omnibus):</th> <td> 0.187</td> <th>  Jarque-Bera (JB):  </th> <td>   2.248</td>\n",
              "</tr>\n",
              "<tr>\n",
              "  <th>Skew:</th>          <td> 0.821</td> <th>  Prob(JB):          </th> <td>   0.325</td>\n",
              "</tr>\n",
              "<tr>\n",
              "  <th>Kurtosis:</th>      <td> 2.971</td> <th>  Cond. No.          </th> <td>1.82e+03</td>\n",
              "</tr>\n",
              "</table><br/><br/>Warnings:<br/>[1] Standard Errors assume that the covariance matrix of the errors is correctly specified.<br/>[2] The condition number is large, 1.82e+03. This might indicate that there are<br/>strong multicollinearity or other numerical problems."
            ],
            "text/plain": [
              "<class 'statsmodels.iolib.summary.Summary'>\n",
              "\"\"\"\n",
              "                            WLS Regression Results                            \n",
              "==============================================================================\n",
              "Dep. Variable:        Y (Weight, lbs)   R-squared:                       0.453\n",
              "Model:                            WLS   Adj. R-squared:                  0.423\n",
              "Method:                 Least Squares   F-statistic:                     14.91\n",
              "Date:                Tue, 26 Nov 2019   Prob (F-statistic):            0.00115\n",
              "Time:                        11:21:15   Log-Likelihood:                -84.802\n",
              "No. Observations:                  20   AIC:                             173.6\n",
              "Df Residuals:                      18   BIC:                             175.6\n",
              "Df Model:                           1                                         \n",
              "Covariance Type:            nonrobust                                         \n",
              "===================================================================================\n",
              "                      coef    std err          t      P>|t|      [0.025      0.975]\n",
              "-----------------------------------------------------------------------------------\n",
              "const            -230.0560    103.598     -2.221      0.039    -447.707     -12.405\n",
              "X (Height, in.)     5.7572      1.491      3.861      0.001       2.624       8.890\n",
              "==============================================================================\n",
              "Omnibus:                        3.351   Durbin-Watson:                   1.524\n",
              "Prob(Omnibus):                  0.187   Jarque-Bera (JB):                2.248\n",
              "Skew:                           0.821   Prob(JB):                        0.325\n",
              "Kurtosis:                       2.971   Cond. No.                     1.82e+03\n",
              "==============================================================================\n",
              "\n",
              "Warnings:\n",
              "[1] Standard Errors assume that the covariance matrix of the errors is correctly specified.\n",
              "[2] The condition number is large, 1.82e+03. This might indicate that there are\n",
              "strong multicollinearity or other numerical problems.\n",
              "\"\"\""
            ]
          },
          "metadata": {
            "tags": []
          },
          "execution_count": 47
        }
      ]
    }
  ]
}