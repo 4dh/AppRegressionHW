{
  "nbformat": 4,
  "nbformat_minor": 0,
  "metadata": {
    "colab": {
      "name": "RegressionHW10.ipynb",
      "provenance": [],
      "collapsed_sections": [],
      "include_colab_link": true
    },
    "kernelspec": {
      "name": "python3",
      "display_name": "Python 3"
    }
  },
  "cells": [
    {
      "cell_type": "markdown",
      "metadata": {
        "id": "view-in-github",
        "colab_type": "text"
      },
      "source": [
        "<a href=\"https://colab.research.google.com/github/4dh/AppRegressionHW/blob/master/RegressionHW10.ipynb\" target=\"_parent\"><img src=\"https://colab.research.google.com/assets/colab-badge.svg\" alt=\"Open In Colab\"/></a>"
      ]
    },
    {
      "cell_type": "markdown",
      "metadata": {
        "id": "AevJ-VzKEAh8",
        "colab_type": "text"
      },
      "source": [
        "Danielle Heymann\n",
        "\n",
        "CSCI 688: Linear Regression\n",
        "\n",
        "> HW 10\n",
        "\n"
      ]
    },
    {
      "cell_type": "markdown",
      "metadata": {
        "id": "XWXvtbACDU0P",
        "colab_type": "text"
      },
      "source": [
        "11.8 Employee salaries. A group of high-technology companies agreed to share employee salary information in an effort to establish salary ranges for technical positions in research development. Data obtained for each employee included current salary (Y), a coded variable indicating highest academic degree obtained (1 = bachelor’s degree, 2 = master’s degree, 3 = doctoral degree), years of experience since last degree (X3), and the number of persons currently supervised (X4). \n",
        "\n",
        "\n",
        "> a) Create two indicator variables for the highest degree attained:\n",
        "\n",
        "\n",
        "Degree\t    X1\t X2\n",
        "\n",
        "Bachelor’s\t0\t   0\n",
        "\n",
        "Master’s\t  1\t   0\n",
        "\n",
        "Doctoral  \t0\t   1\n"
      ]
    },
    {
      "cell_type": "code",
      "metadata": {
        "id": "4LLjYTNtFDm7",
        "colab_type": "code",
        "colab": {}
      },
      "source": [
        "#initial statements for numpy and pandas packages\n",
        "import numpy as np\n",
        "import pandas as pd\n",
        "import csv\n",
        "import seaborn as sns\n",
        "import scipy as sp\n",
        "import statsmodels.api as sm\n",
        "import matplotlib.pyplot as plt\n",
        "import matplotlib as mpl \n",
        "from mpl_toolkits.mplot3d import Axes3D \n"
      ],
      "execution_count": null,
      "outputs": []
    },
    {
      "cell_type": "code",
      "metadata": {
        "id": "P8_jMsNSSVoy",
        "colab_type": "code",
        "colab": {
          "resources": {
            "http://localhost:8080/nbextensions/google.colab/files.js": {
              "data": "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",
              "ok": true,
              "headers": [
                [
                  "content-type",
                  "application/javascript"
                ]
              ],
              "status": 200,
              "status_text": ""
            }
          },
          "base_uri": "https://localhost:8080/",
          "height": 40
        },
        "outputId": "d3c99bc3-6e4a-4416-f79a-a447e047193d"
      },
      "source": [
        "from google.colab import files\n",
        "uploaded = files.upload()"
      ],
      "execution_count": null,
      "outputs": [
        {
          "output_type": "display_data",
          "data": {
            "text/html": [
              "\n",
              "     <input type=\"file\" id=\"files-c98f541c-429d-43fe-9826-0b7eb0bc5d90\" name=\"files[]\" multiple disabled />\n",
              "     <output id=\"result-c98f541c-429d-43fe-9826-0b7eb0bc5d90\">\n",
              "      Upload widget is only available when the cell has been executed in the\n",
              "      current browser session. Please rerun this cell to enable.\n",
              "      </output>\n",
              "      <script src=\"/nbextensions/google.colab/files.js\"></script> "
            ],
            "text/plain": [
              "<IPython.core.display.HTML object>"
            ]
          },
          "metadata": {
            "tags": []
          }
        }
      ]
    },
    {
      "cell_type": "code",
      "metadata": {
        "id": "GHaVSRtlGFGV",
        "colab_type": "code",
        "colab": {
          "base_uri": "https://localhost:8080/",
          "height": 206
        },
        "outputId": "f07a53e6-a8bc-428d-b835-e17600dc1772"
      },
      "source": [
        "edudata = pd.read_csv('CH11PR08.txt', delimiter='\\s+',\n",
        "            names = ['Y (Curr. Salary)', 'Degree', 'X3 (Yrs Exp. Post-Ed)', 'X4 (Amt. Supervised)'])\n",
        "\n",
        "#Let's see what a sample of 5 rows looks like to verify that data frame is as expected\n",
        "edudata.sample(5)\n"
      ],
      "execution_count": null,
      "outputs": [
        {
          "output_type": "execute_result",
          "data": {
            "text/html": [
              "<div>\n",
              "<style scoped>\n",
              "    .dataframe tbody tr th:only-of-type {\n",
              "        vertical-align: middle;\n",
              "    }\n",
              "\n",
              "    .dataframe tbody tr th {\n",
              "        vertical-align: top;\n",
              "    }\n",
              "\n",
              "    .dataframe thead th {\n",
              "        text-align: right;\n",
              "    }\n",
              "</style>\n",
              "<table border=\"1\" class=\"dataframe\">\n",
              "  <thead>\n",
              "    <tr style=\"text-align: right;\">\n",
              "      <th></th>\n",
              "      <th>Y (Curr. Salary)</th>\n",
              "      <th>Degree</th>\n",
              "      <th>X3 (Yrs Exp. Post-Ed)</th>\n",
              "      <th>X4 (Amt. Supervised)</th>\n",
              "    </tr>\n",
              "  </thead>\n",
              "  <tbody>\n",
              "    <tr>\n",
              "      <th>21</th>\n",
              "      <td>44.3</td>\n",
              "      <td>2</td>\n",
              "      <td>2.33</td>\n",
              "      <td>0</td>\n",
              "    </tr>\n",
              "    <tr>\n",
              "      <th>47</th>\n",
              "      <td>36.1</td>\n",
              "      <td>1</td>\n",
              "      <td>4.37</td>\n",
              "      <td>0</td>\n",
              "    </tr>\n",
              "    <tr>\n",
              "      <th>59</th>\n",
              "      <td>87.4</td>\n",
              "      <td>3</td>\n",
              "      <td>2.37</td>\n",
              "      <td>13</td>\n",
              "    </tr>\n",
              "    <tr>\n",
              "      <th>29</th>\n",
              "      <td>39.1</td>\n",
              "      <td>2</td>\n",
              "      <td>1.00</td>\n",
              "      <td>0</td>\n",
              "    </tr>\n",
              "    <tr>\n",
              "      <th>64</th>\n",
              "      <td>104.8</td>\n",
              "      <td>3</td>\n",
              "      <td>19.81</td>\n",
              "      <td>24</td>\n",
              "    </tr>\n",
              "  </tbody>\n",
              "</table>\n",
              "</div>"
            ],
            "text/plain": [
              "    Y (Curr. Salary)  Degree  X3 (Yrs Exp. Post-Ed)  X4 (Amt. Supervised)\n",
              "21              44.3       2                   2.33                     0\n",
              "47              36.1       1                   4.37                     0\n",
              "59              87.4       3                   2.37                    13\n",
              "29              39.1       2                   1.00                     0\n",
              "64             104.8       3                  19.81                    24"
            ]
          },
          "metadata": {
            "tags": []
          },
          "execution_count": 10
        }
      ]
    },
    {
      "cell_type": "code",
      "metadata": {
        "id": "f38jMjnUOxPJ",
        "colab_type": "code",
        "colab": {}
      },
      "source": [
        "#Now we add in two columns for X1 and X2 which are indicator variables as described earlier to denote\n",
        "#bachelor's, master's, or doctoral degree\n",
        "edudata['X1 (HigherEd1)'] = np.where(edudata['Degree']==2, 1, 0)\n",
        "edudata.sample(5)\n",
        "edudata['X2 (HigherEd2)'] = np.where(edudata['Degree']==3, 1, 0)\n",
        "edudata.sample(5)\n",
        "\n",
        "#index column\n",
        "edudata['Index'] = list(range(len(edudata.index)))"
      ],
      "execution_count": null,
      "outputs": []
    },
    {
      "cell_type": "markdown",
      "metadata": {
        "id": "kuj0Nww5RVlw",
        "colab_type": "text"
      },
      "source": [
        "b) Regress Y on X1, X2, X3, and X4, using a first-order model and ordinary least squares. Obtain the residuals, and plot them against Y ̂. What does the residual plot suggest?"
      ]
    },
    {
      "cell_type": "code",
      "metadata": {
        "id": "Ql46Kwb3RS1J",
        "colab_type": "code",
        "colab": {
          "base_uri": "https://localhost:8080/",
          "height": 569
        },
        "outputId": "f3938e05-ebd5-4fe2-b37e-fe68904aac1c"
      },
      "source": [
        "X = edudata[['X1 (HigherEd1)','X2 (HigherEd2)','X3 (Yrs Exp. Post-Ed)', 'X4 (Amt. Supervised)']] \n",
        "y = edudata['Y (Curr. Salary)']\n",
        "## fit a OLS \n",
        "X = sm.add_constant(X)\n",
        "edufit = sm.OLS(y, X).fit()\n",
        "edufit.summary()"
      ],
      "execution_count": null,
      "outputs": [
        {
          "output_type": "stream",
          "text": [
            "/usr/local/lib/python3.6/dist-packages/numpy/core/fromnumeric.py:2495: FutureWarning: Method .ptp is deprecated and will be removed in a future version. Use numpy.ptp instead.\n",
            "  return ptp(axis=axis, out=out, **kwargs)\n"
          ],
          "name": "stderr"
        },
        {
          "output_type": "execute_result",
          "data": {
            "text/html": [
              "<table class=\"simpletable\">\n",
              "<caption>OLS Regression Results</caption>\n",
              "<tr>\n",
              "  <th>Dep. Variable:</th>    <td>Y (Curr. Salary)</td> <th>  R-squared:         </th> <td>   0.863</td>\n",
              "</tr>\n",
              "<tr>\n",
              "  <th>Model:</th>                   <td>OLS</td>       <th>  Adj. R-squared:    </th> <td>   0.854</td>\n",
              "</tr>\n",
              "<tr>\n",
              "  <th>Method:</th>             <td>Least Squares</td>  <th>  F-statistic:       </th> <td>   94.76</td>\n",
              "</tr>\n",
              "<tr>\n",
              "  <th>Date:</th>             <td>Thu, 28 Nov 2019</td> <th>  Prob (F-statistic):</th> <td>3.16e-25</td>\n",
              "</tr>\n",
              "<tr>\n",
              "  <th>Time:</th>                 <td>01:13:36</td>     <th>  Log-Likelihood:    </th> <td> -240.23</td>\n",
              "</tr>\n",
              "<tr>\n",
              "  <th>No. Observations:</th>      <td>    65</td>      <th>  AIC:               </th> <td>   490.5</td>\n",
              "</tr>\n",
              "<tr>\n",
              "  <th>Df Residuals:</th>          <td>    60</td>      <th>  BIC:               </th> <td>   501.3</td>\n",
              "</tr>\n",
              "<tr>\n",
              "  <th>Df Model:</th>              <td>     4</td>      <th>                     </th>     <td> </td>   \n",
              "</tr>\n",
              "<tr>\n",
              "  <th>Covariance Type:</th>      <td>nonrobust</td>    <th>                     </th>     <td> </td>   \n",
              "</tr>\n",
              "</table>\n",
              "<table class=\"simpletable\">\n",
              "<tr>\n",
              "            <td></td>               <th>coef</th>     <th>std err</th>      <th>t</th>      <th>P>|t|</th>  <th>[0.025</th>    <th>0.975]</th>  \n",
              "</tr>\n",
              "<tr>\n",
              "  <th>const</th>                 <td>   31.4714</td> <td>    2.869</td> <td>   10.969</td> <td> 0.000</td> <td>   25.732</td> <td>   37.210</td>\n",
              "</tr>\n",
              "<tr>\n",
              "  <th>X1 (HigherEd1)</th>        <td>   10.8120</td> <td>    3.218</td> <td>    3.360</td> <td> 0.001</td> <td>    4.374</td> <td>   17.250</td>\n",
              "</tr>\n",
              "<tr>\n",
              "  <th>X2 (HigherEd2)</th>        <td>   22.6307</td> <td>    3.485</td> <td>    6.494</td> <td> 0.000</td> <td>   15.660</td> <td>   29.601</td>\n",
              "</tr>\n",
              "<tr>\n",
              "  <th>X3 (Yrs Exp. Post-Ed)</th> <td>    1.2581</td> <td>    0.227</td> <td>    5.535</td> <td> 0.000</td> <td>    0.803</td> <td>    1.713</td>\n",
              "</tr>\n",
              "<tr>\n",
              "  <th>X4 (Amt. Supervised)</th>  <td>    1.8523</td> <td>    0.228</td> <td>    8.137</td> <td> 0.000</td> <td>    1.397</td> <td>    2.308</td>\n",
              "</tr>\n",
              "</table>\n",
              "<table class=\"simpletable\">\n",
              "<tr>\n",
              "  <th>Omnibus:</th>       <td>13.921</td> <th>  Durbin-Watson:     </th> <td>   2.122</td>\n",
              "</tr>\n",
              "<tr>\n",
              "  <th>Prob(Omnibus):</th> <td> 0.001</td> <th>  Jarque-Bera (JB):  </th> <td>  29.803</td>\n",
              "</tr>\n",
              "<tr>\n",
              "  <th>Skew:</th>          <td> 0.587</td> <th>  Prob(JB):          </th> <td>3.38e-07</td>\n",
              "</tr>\n",
              "<tr>\n",
              "  <th>Kurtosis:</th>      <td> 6.103</td> <th>  Cond. No.          </th> <td>    48.0</td>\n",
              "</tr>\n",
              "</table><br/><br/>Warnings:<br/>[1] Standard Errors assume that the covariance matrix of the errors is correctly specified."
            ],
            "text/plain": [
              "<class 'statsmodels.iolib.summary.Summary'>\n",
              "\"\"\"\n",
              "                            OLS Regression Results                            \n",
              "==============================================================================\n",
              "Dep. Variable:       Y (Curr. Salary)   R-squared:                       0.863\n",
              "Model:                            OLS   Adj. R-squared:                  0.854\n",
              "Method:                 Least Squares   F-statistic:                     94.76\n",
              "Date:                Thu, 28 Nov 2019   Prob (F-statistic):           3.16e-25\n",
              "Time:                        01:13:36   Log-Likelihood:                -240.23\n",
              "No. Observations:                  65   AIC:                             490.5\n",
              "Df Residuals:                      60   BIC:                             501.3\n",
              "Df Model:                           4                                         \n",
              "Covariance Type:            nonrobust                                         \n",
              "=========================================================================================\n",
              "                            coef    std err          t      P>|t|      [0.025      0.975]\n",
              "-----------------------------------------------------------------------------------------\n",
              "const                    31.4714      2.869     10.969      0.000      25.732      37.210\n",
              "X1 (HigherEd1)           10.8120      3.218      3.360      0.001       4.374      17.250\n",
              "X2 (HigherEd2)           22.6307      3.485      6.494      0.000      15.660      29.601\n",
              "X3 (Yrs Exp. Post-Ed)     1.2581      0.227      5.535      0.000       0.803       1.713\n",
              "X4 (Amt. Supervised)      1.8523      0.228      8.137      0.000       1.397       2.308\n",
              "==============================================================================\n",
              "Omnibus:                       13.921   Durbin-Watson:                   2.122\n",
              "Prob(Omnibus):                  0.001   Jarque-Bera (JB):               29.803\n",
              "Skew:                           0.587   Prob(JB):                     3.38e-07\n",
              "Kurtosis:                       6.103   Cond. No.                         48.0\n",
              "==============================================================================\n",
              "\n",
              "Warnings:\n",
              "[1] Standard Errors assume that the covariance matrix of the errors is correctly specified.\n",
              "\"\"\""
            ]
          },
          "metadata": {
            "tags": []
          },
          "execution_count": 6
        }
      ]
    },
    {
      "cell_type": "code",
      "metadata": {
        "id": "Pqq0GxBX8W-I",
        "colab_type": "code",
        "colab": {
          "base_uri": "https://localhost:8080/",
          "height": 235
        },
        "outputId": "9f3fb081-b623-4b87-928b-90ff12a69e8b"
      },
      "source": [
        "# fitted values (need a constant term for intercept)\n",
        "edufit_fitted_y = edufit.fittedvalues\n",
        "edudata['Yfit'] = edufit_fitted_y\n",
        "\n",
        "edu_residuals = edufit.resid\n",
        "edudata['Res'] = edu_residuals\n",
        "\n",
        "#INFLUENCE OLS Influence results\n",
        "eduinfluences = edufit.get_influence()\n",
        "\n",
        "eduinfluences.summary_table\n",
        "as_csv(eduinfluences)\n",
        "\n",
        "# normalized residuals ri\n",
        "edu_norm_residuals = edufit.get_influence().resid_studentized_internal\n",
        "\n",
        "####dont know what this is\n",
        "# absolute squared normalized residuals= sums to MSE?\n",
        "edu_norm_residuals_abs_sqrt = np.sqrt(np.abs(edu_norm_residuals))\n",
        "\n",
        "# absolute residuals\n",
        "edu_abs_resid = np.abs(edu_residuals)\n",
        "edudata['ABS RES'] = edu_abs_resid\n",
        "\n",
        "# leverage, from statsmodels internals\n",
        "edu_leverage = edufit.get_influence().hat_matrix_diag\n",
        "edudata['hii'] = edu_leverage\n",
        "\n",
        "########################################\n",
        "# dfbetas, from statsmodels internals\n",
        "\n",
        "#edudata['dfbetas'] = edu_dfbeta\n",
        "\n",
        "# cook's distance, from statsmodels internals\n",
        "edu_cooks = edufit.get_influence().cooks_distance[0]\n",
        "edudata['Cooks distance'] = edu_cooks\n",
        "\n",
        "#edudata.head(10)\n"
      ],
      "execution_count": null,
      "outputs": [
        {
          "output_type": "error",
          "ename": "NameError",
          "evalue": "ignored",
          "traceback": [
            "\u001b[0;31m---------------------------------------------------------------------------\u001b[0m",
            "\u001b[0;31mNameError\u001b[0m                                 Traceback (most recent call last)",
            "\u001b[0;32m<ipython-input-51-4f197ab40080>\u001b[0m in \u001b[0;36m<module>\u001b[0;34m()\u001b[0m\n\u001b[1;32m      9\u001b[0m \u001b[0;34m\u001b[0m\u001b[0m\n\u001b[1;32m     10\u001b[0m \u001b[0meduinfluences\u001b[0m\u001b[0;34m.\u001b[0m\u001b[0msummary_table\u001b[0m\u001b[0;34m\u001b[0m\u001b[0;34m\u001b[0m\u001b[0m\n\u001b[0;32m---> 11\u001b[0;31m \u001b[0mas_csv\u001b[0m\u001b[0;34m(\u001b[0m\u001b[0meduinfluences\u001b[0m\u001b[0;34m)\u001b[0m\u001b[0;34m\u001b[0m\u001b[0;34m\u001b[0m\u001b[0m\n\u001b[0m\u001b[1;32m     12\u001b[0m \u001b[0;34m\u001b[0m\u001b[0m\n\u001b[1;32m     13\u001b[0m \u001b[0;31m# normalized residuals ri\u001b[0m\u001b[0;34m\u001b[0m\u001b[0;34m\u001b[0m\u001b[0;34m\u001b[0m\u001b[0m\n",
            "\u001b[0;31mNameError\u001b[0m: name 'as_csv' is not defined"
          ]
        }
      ]
    },
    {
      "cell_type": "code",
      "metadata": {
        "id": "qFBabUfy7x5i",
        "colab_type": "code",
        "colab": {}
      },
      "source": [
        "plt.style.use('seaborn') \n",
        "plt.rc('font', size=14)\n",
        "plt.rc('figure', titlesize=18)\n",
        "plt.rc('axes', labelsize=15)\n",
        "plt.rc('axes', titlesize=18)"
      ],
      "execution_count": null,
      "outputs": []
    },
    {
      "cell_type": "code",
      "metadata": {
        "id": "UaG1ID1p7SCi",
        "colab_type": "code",
        "colab": {}
      },
      "source": [
        "resplot = sns.residplot(edudata['Index'], edudata['Res'], lowess=True, color=\"g\")\n",
        "resplot.axes.set_title('Residual Plot')\n",
        "resplot.axes.set_xlabel(' Index')\n",
        "resplot.axes.set_ylabel('Residuals')"
      ],
      "execution_count": null,
      "outputs": []
    },
    {
      "cell_type": "code",
      "metadata": {
        "id": "OKIDqbkuQZRA",
        "colab_type": "code",
        "colab": {}
      },
      "source": [
        "###########################################################\n",
        "############ WORK IN PROGRESS- this is just residual plot not standardized\n",
        "resplotst = sns.residplot(edudata['Index'], edudata['Res'], lowess=True, color=\"g\")\n",
        "resplotst.axes.set_title('Standardized Residual Plot')\n",
        "resplotst.axes.set_xlabel('Index')\n",
        "resplotst.axes.set_ylabel('Standardized Residuals')"
      ],
      "execution_count": null,
      "outputs": []
    },
    {
      "cell_type": "code",
      "metadata": {
        "id": "H43hV0B-L9iC",
        "colab_type": "code",
        "colab": {}
      },
      "source": [
        "#partial regression plots\n",
        "fig2 = plt.figure(figsize=(12,8))\n",
        "fig2 = sm.graphics.plot_partregress_grid(edufit, fig=fig2)"
      ],
      "execution_count": null,
      "outputs": []
    },
    {
      "cell_type": "code",
      "metadata": {
        "id": "RtEt1V7VM5cM",
        "colab_type": "code",
        "colab": {}
      },
      "source": [
        "#Influence Plot\n",
        "\n",
        "fig3, ax = plt.subplots(figsize=(8,6))\n",
        "fig3 = sm.graphics.influence_plot(edufit, ax=ax)"
      ],
      "execution_count": null,
      "outputs": []
    },
    {
      "cell_type": "markdown",
      "metadata": {
        "id": "jQbspplEkOhB",
        "colab_type": "text"
      },
      "source": [
        "c) Divide the cases into two groups, placing the 33 cases with the smallest fitted values Y ̂ into group 1 and the other 32 cases into group 2. Conduct the Brown-Forsythe test for constancy of the error variance, using α = .01. State the decision rule and conclusion.\n",
        "\n"
      ]
    },
    {
      "cell_type": "code",
      "metadata": {
        "id": "nMu95rPHx0Va",
        "colab_type": "code",
        "colab": {}
      },
      "source": [
        "#I will create new dataframe sorted on Y fit values and split into the first group 33 cases and then second group 32 cases\n",
        "\n",
        "edudata_1 = edudata.sort_values(by=['Yfit'])\n",
        "\n",
        "\n",
        "#split into two groups\n",
        "edudata_group1 = edudata_1.iloc[:33, :]\n",
        "edudata_group2 = edudata_1.iloc[33:,: ]\n",
        "print(edudata_group1.median())\n",
        "print(edudata_group2.median())\n",
        "\n",
        "\n",
        "#use Levene's test modified for ‘median’ (median is default; Recommended for skewed (non-normal) distributions)\n",
        "brownforsythe = sp.stats.levene(edudata_group1['Y (Curr. Salary)'], edudata_group2['Y (Curr. Salary)'])\n",
        "brownforsythe"
      ],
      "execution_count": null,
      "outputs": []
    },
    {
      "cell_type": "markdown",
      "metadata": {
        "id": "rJ0cUrRAxt8c",
        "colab_type": "text"
      },
      "source": [
        "d) Plot the absolute residuals against X3 and against X4. What do these plots suggest about the relation between the standard deviation of the error term and X3 and X4? "
      ]
    },
    {
      "cell_type": "code",
      "metadata": {
        "id": "F6Jb8h6qpznf",
        "colab_type": "code",
        "colab": {}
      },
      "source": [
        "###########################################################\n",
        "resplotvx3 = sns.residplot(edudata['X3 (Yrs Exp. Post-Ed)'], edudata['ABS RES'], lowess=True, color=\"c\")\n",
        "resplotvx3.axes.set_title('Absolute Residuals against X3')\n",
        "resplotvx3.axes.set_xlabel('X3 (Yrs Exp. Post-Ed)')\n",
        "resplotvx3.axes.set_ylabel('Absolute Residuals')\n",
        "\n"
      ],
      "execution_count": null,
      "outputs": []
    },
    {
      "cell_type": "code",
      "metadata": {
        "id": "HpmGqbzuxbc2",
        "colab_type": "code",
        "colab": {}
      },
      "source": [
        "###########################################################\n",
        "resplotvx4 = sns.residplot(edudata['X4 (Amt. Supervised)'], edudata['ABS RES'], lowess=True, color=\"m\")\n",
        "resplotvx4.axes.set_title('Absolute Residuals against X3')\n",
        "resplotvx4.axes.set_xlabel('X4 (Amt. Supervised)')\n",
        "resplotvx4.axes.set_ylabel('Absolute Residuals')"
      ],
      "execution_count": null,
      "outputs": []
    },
    {
      "cell_type": "markdown",
      "metadata": {
        "id": "pCrLxz9c_IAW",
        "colab_type": "text"
      },
      "source": [
        "e. Estimate the standard deviation function by regressing the absolute residuals against X3 and X4 in first-order form, and then calculate the estimated weight for each case using 11.16a.\n",
        "11.16a: wi = 1/(s ̂i)^2 \n",
        "Where s ̂i is the fitted value from the standard deviation function\n",
        "\n"
      ]
    },
    {
      "cell_type": "code",
      "metadata": {
        "id": "1L7WvBlB_LKH",
        "colab_type": "code",
        "colab": {}
      },
      "source": [
        "X = edudata[['X3 (Yrs Exp. Post-Ed)', 'X4 (Amt. Supervised)']] \n",
        "y = edudata['ABS RES']\n",
        "## fit a OLS \n",
        "X = sm.add_constant(X)\n",
        "edufit_res_34 = sm.OLS(y, X).fit()\n",
        "edufit_res_34.summary()"
      ],
      "execution_count": null,
      "outputs": []
    },
    {
      "cell_type": "code",
      "metadata": {
        "id": "90b-J8BMCSI1",
        "colab_type": "code",
        "colab": {}
      },
      "source": [
        "# fitted values (need a constant term for intercept)\n",
        "edufit_fitted_s_34 = edufit_res_34.fittedvalues\n",
        "edudata['s_34'] = edufit_fitted_s_34\n",
        "edudata['w_34'] = 1/((edufit_fitted_s_34)**2)\n",
        "print(edudata.loc[:,['s_34','w_34']])\n"
      ],
      "execution_count": null,
      "outputs": []
    },
    {
      "cell_type": "markdown",
      "metadata": {
        "id": "7P9fEF5Bd-ax",
        "colab_type": "text"
      },
      "source": [
        "f) Using the estimated weights, obtain the weighted least squares fit of the regression model. Are the weighted least squares estimates of the regression coefficients similar to the ones obtained with OLS in b)?"
      ]
    },
    {
      "cell_type": "code",
      "metadata": {
        "id": "Qvult3qLd8qI",
        "colab_type": "code",
        "colab": {}
      },
      "source": [
        "X = edudata[['X1 (HigherEd1)','X2 (HigherEd2)','X3 (Yrs Exp. Post-Ed)', 'X4 (Amt. Supervised)']]\n",
        "y = edudata['Y (Curr. Salary)']\n",
        "## fit a WLS \n",
        "X = sm.add_constant(X)\n",
        "edufit_WLS_34 = sm.WLS(y,X, weights= edudata['w_34']).fit()\n",
        "edufit_WLS_34.summary()\n",
        "\n"
      ],
      "execution_count": null,
      "outputs": []
    },
    {
      "cell_type": "markdown",
      "metadata": {
        "id": "RAus33YvknRw",
        "colab_type": "text"
      },
      "source": [
        "g) Compare the estimated standard deviations of the weighted least squares coefficients estimates in part f) with those for the ordinary least squares in part b. What do you find?"
      ]
    },
    {
      "cell_type": "code",
      "metadata": {
        "id": "JtagMw0Rknxx",
        "colab_type": "code",
        "colab": {}
      },
      "source": [
        "# abs residuals for weighted model\n",
        "edu_residuals_1W = edufit_WLS_34.resid\n",
        "edu_abs_resid_1W = np.abs(edu_residuals_1W)\n",
        "edudata['ABS RES 1W'] = edu_abs_resid_1W\n",
        "\n",
        "X = edudata[['X3 (Yrs Exp. Post-Ed)', 'X4 (Amt. Supervised)']] \n",
        "y = edudata['ABS RES 1W']\n",
        "## fit a OLS \n",
        "X = sm.add_constant(X)\n",
        "edufit_res_34_1W = sm.OLS(y, X).fit()\n",
        "edufit_res_34_1W.summary()\n",
        "\n",
        "edufit_fitted_s_34_1W= edufit_res_34_1W.fittedvalues\n",
        "edudata['s_34_WLS'] = edufit_fitted_s_34_1W\n",
        "edudata['w_34_WLS'] = 1/((edufit_fitted_s_34_1W)**2)\n",
        "print(edudata.loc[:,['s_34','w_34', 's_34_WLS', 'w_34_WLS']])"
      ],
      "execution_count": null,
      "outputs": []
    },
    {
      "cell_type": "code",
      "metadata": {
        "id": "32h17uRdt65_",
        "colab_type": "code",
        "colab": {}
      },
      "source": [
        "X = edudata[['X1 (HigherEd1)','X2 (HigherEd2)','X3 (Yrs Exp. Post-Ed)', 'X4 (Amt. Supervised)']]\n",
        "y = edudata['Y (Curr. Salary)']\n",
        "## fit a WLS \n",
        "X = sm.add_constant(X)\n",
        "edufit_WLS_34_2 = sm.WLS(y,X, weights= edudata['w_34_WLS']).fit()\n",
        "edufit_WLS_34_2.summary()\n",
        "\n"
      ],
      "execution_count": null,
      "outputs": []
    },
    {
      "cell_type": "code",
      "metadata": {
        "id": "pKQw1jwMwX3J",
        "colab_type": "code",
        "colab": {}
      },
      "source": [
        ""
      ],
      "execution_count": null,
      "outputs": []
    }
  ]
}